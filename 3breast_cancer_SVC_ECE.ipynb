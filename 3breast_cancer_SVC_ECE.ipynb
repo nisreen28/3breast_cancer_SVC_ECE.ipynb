{
 "cells": [
  {
   "cell_type": "code",
   "execution_count": 1,
   "id": "fb6fd489-4ebf-471b-9d08-a1e96955a60a",
   "metadata": {},
   "outputs": [],
   "source": [
    "import numpy as np\n",
    "import matplotlib.pyplot as plt\n",
    "import seaborn as sns\n",
    "from sklearn.datasets import load_breast_cancer\n",
    "from sklearn.model_selection import train_test_split\n",
    "from sklearn.preprocessing import StandardScaler\n",
    "from sklearn.linear_model import LogisticRegression\n",
    "from sklearn.calibration import CalibratedClassifierCV, calibration_curve\n",
    "from sklearn.metrics import accuracy_score, log_loss, confusion_matrix\n"
   ]
  },
  {
   "cell_type": "code",
   "execution_count": 2,
   "id": "cedf592d-6186-4deb-8639-d6d1992a770a",
   "metadata": {},
   "outputs": [],
   "source": [
    "\n",
    "# Load dataset\n",
    "data = load_breast_cancer()\n",
    "X, y = data.data, data.target\n",
    "\n",
    "# Split dataset into training and testing sets\n",
    "X_train, X_test, y_train, y_test = train_test_split(X, y, test_size=0.2, random_state=42)\n",
    "\n",
    "# Standardize features (important for Logistic Regression)\n",
    "scaler = StandardScaler()\n",
    "X_train = scaler.fit_transform(X_train)\n",
    "X_test = scaler.transform(X_test)\n"
   ]
  },
  {
   "cell_type": "code",
   "execution_count": 3,
   "id": "a57cc060-be08-47d4-bd36-8e73a04651b9",
   "metadata": {},
   "outputs": [],
   "source": [
    "\n",
    "from sklearn.svm import SVC\n",
    "\n",
    "svc = SVC(max_iter=10000, probability=True)\n",
    "preds_svc = svc.fit(X_train, y_train).predict(X_test)\n",
    "\n",
    "probs_svc = svc.decision_function(X_test)\n",
    "probs_svc = (probs_svc - probs_svc.min()) / (probs_svc.max() - probs_svc.min())"
   ]
  },
  {
   "cell_type": "code",
   "execution_count": 7,
   "id": "a7418f2b-dbc8-44b8-aeae-da016aabbb1b",
   "metadata": {},
   "outputs": [
    {
     "name": "stdout",
     "output_type": "stream",
     "text": [
      "Accuracy (Uncalibrated) = 98.25%\n",
      "Log Loss (Uncalibrated) = 0.2666\n"
     ]
    },
    {
     "data": {
      "image/png": "[encoded data removed]",
      "text/plain": [
       "<Figure size 500x500 with 1 Axes>"
      ]
     },
     "metadata": {},
     "output_type": "display_data"
    }
   ],
   "source": [
    "# Compute accuracy\n",
    "svc_test_acc = round(accuracy_score(y_test, preds_svc) * 100, 2)\n",
    "print(f'Accuracy (Uncalibrated) = {svc_test_acc}%')\n",
    "\n",
    "# Compute Log Loss\n",
    "orig_log_loss = log_loss(y_test, probs_svc)\n",
    "print(f'Log Loss (Uncalibrated) = {orig_log_loss:.4f}')\n",
    "\n",
    "# Plot Confusion Matrix\n",
    "cm = confusion_matrix(y_test, preds_svc)\n",
    "plt.figure(figsize=(5, 5))\n",
    "sns.heatmap(cm, annot=True, fmt='d', cmap='Blues', cbar=False)\n",
    "plt.title('Support Vector Confusion Matrix')\n",
    "plt.xlabel('Predicted')\n",
    "plt.ylabel('Actual')\n",
    "plt.show()\n"
   ]
  },
  {
   "cell_type": "code",
   "execution_count": 15,
   "id": "212d6537-e7c0-4e6e-9e12-5620c300b2c2",
   "metadata": {},
   "outputs": [
    {
     "name": "stdout",
     "output_type": "stream",
     "text": [
      "Accuracy (Calibrated SVC) = 95.61%\n",
      "Log Loss (Calibrated SVC) = 0.0872\n"
     ]
    }
   ],
   "source": [
    "# Apply Platt Scaling using CalibratedClassifierCV on SVC model\n",
    "calibrated_svc = CalibratedClassifierCV(svc, cv=2, method='sigmoid')\n",
    "calibrated_svc.fit(X_train, y_train)\n",
    "\n",
    "# Get calibrated probability estimates\n",
    "svc_calibrated_probs = calibrated_svc.predict_proba(X_test)[:, 1]\n",
    "\n",
    "# Make calibrated predictions\n",
    "y_pred_svc_calibrated = calibrated_svc.predict(X_test)\n",
    "\n",
    "# Evaluate performance\n",
    "calibrated_svc_acc = accuracy_score(y_test, y_pred_svc_calibrated)\n",
    "calibrated_svc_log_loss = log_loss(y_test, svc_calibrated_probs)\n",
    "\n",
    "print(f'Accuracy (Calibrated SVC) = {calibrated_svc_acc * 100:.2f}%')\n",
    "print(f'Log Loss (Calibrated SVC) = {calibrated_svc_log_loss:.4f}')\n"
   ]
  },
  {
   "cell_type": "code",
   "execution_count": 35,
   "id": "95900e3d-c3f4-4edc-84e4-f5706e008c6e",
   "metadata": {},
   "outputs": [
    {
     "data": {
      "image/png": "[encoded data removed]",
      "text/plain": [
       "<Figure size 500x500 with 1 Axes>"
      ]
     },
     "metadata": {},
     "output_type": "display_data"
    }
   ],
   "source": [
    "# Plot Confusion Matrix\n",
    "cm = confusion_matrix(y_test, y_pred_svc_calibrated)\n",
    "plt.figure(figsize=(5, 5))\n",
    "sns.heatmap(cm, annot=True, fmt='d', cmap='Blues', cbar=False)\n",
    "plt.title('Support Vector Confusion Matrix')\n",
    "plt.xlabel('Predicted')\n",
    "plt.ylabel('Actual')\n",
    "plt.show()"
   ]
  },
  {
   "cell_type": "code",
   "execution_count": 43,
   "id": "4ef5a3f3-9d85-4d1c-9348-5afd844cf997",
   "metadata": {},
   "outputs": [
    {
     "name": "stdout",
     "output_type": "stream",
     "text": [
      "Expected Calibration Error (Uncalibrated SVC) = 0.1947\n",
      "Expected Calibration Error (Calibrated SVC) = 0.0353\n"
     ]
    }
   ],
   "source": [
    "import numpy as np\n",
    "\n",
    "def expected_calibration_error_manual(y_true, probs, n_bins=10):\n",
    "    \"\"\"\n",
    "    Compute the Expected Calibration Error (ECE) using manual binning.\n",
    "    \n",
    "    Parameters:\n",
    "        y_true : array-like of shape (n_samples,)\n",
    "            True binary labels.\n",
    "        probs : array-like of shape (n_samples,)\n",
    "            Predicted probabilities for the positive class.\n",
    "        n_bins : int\n",
    "            Number of bins to divide the probability interval [0, 1].\n",
    "            \n",
    "    Returns:\n",
    "        ece : float\n",
    "            Expected Calibration Error.\n",
    "    \"\"\"\n",
    "    # Define bin edges uniformly between 0 and 1\n",
    "    bin_edges = np.linspace(0, 1, n_bins + 1)\n",
    "    ece = 0.0\n",
    "    n = len(probs)\n",
    "    \n",
    "    # Loop over each bin\n",
    "    for i in range(n_bins):\n",
    "        # For the last bin, include the right edge\n",
    "        if i == n_bins - 1:\n",
    "            bin_idx = (probs >= bin_edges[i]) & (probs <= bin_edges[i+1])\n",
    "        else:\n",
    "            bin_idx = (probs >= bin_edges[i]) & (probs < bin_edges[i+1])\n",
    "        \n",
    "        bin_count = np.sum(bin_idx)\n",
    "        if bin_count > 0:\n",
    "            # Mean predicted probability in the bin\n",
    "            mean_prob = np.mean(probs[bin_idx])\n",
    "            # Fraction of positives (observed frequency) in the bin\n",
    "            frac_pos = np.mean(y_true[bin_idx])\n",
    "            # Weight the absolute difference by the proportion of samples in the bin\n",
    "            ece += np.abs(frac_pos - mean_prob) * (bin_count / n)\n",
    "            \n",
    "    return ece\n",
    "\n",
    "# Compute ECE for the uncalibrated model using manual binning\n",
    "ece_svc_uncalibrated = expected_calibration_error_manual(y_test, probs_svc, n_bins=10)\n",
    "print(f'Expected Calibration Error (Uncalibrated SVC) = {ece_svc_uncalibrated:.4f}')\n",
    "\n",
    "# Compute ECE for the calibrated model using manual binning\n",
    "ece_svc_calibrated = expected_calibration_error_manual(y_test, svc_calibrated_probs, n_bins=10)\n",
    "print(f'Expected Calibration Error (Calibrated SVC) = {ece_svc_calibrated:.4f}')\n"
   ]
  },
  {
   "cell_type": "code",
   "execution_count": null,
   "id": "79e79b58-ddb3-4773-b4f4-f660fdcadae5",
   "metadata": {},
   "outputs": [],
   "source": []
  },
  {
   "cell_type": "code",
   "execution_count": null,
   "id": "12f1d66a-9e29-45a9-a558-7c063c7b729c",
   "metadata": {},
   "outputs": [],
   "source": []
  }
 ],
 "metadata": {
  "kernelspec": {
   "display_name": "Python 3 (ipykernel)",
   "language": "python",
   "name": "python3"
  },
  "language_info": {
   "codemirror_mode": {
    "name": "ipython",
    "version": 3
   },
   "file_extension": ".py",
   "mimetype": "text/x-python",
   "name": "python",
   "nbconvert_exporter": "python",
   "pygments_lexer": "ipython3",
   "version": "3.12.4"
  }
 },
 "nbformat": 4,
 "nbformat_minor": 5
}
